{
  "nbformat": 4,
  "nbformat_minor": 0,
  "metadata": {
    "colab": {
      "name": "Digit Recognition using LSTM.ipynb",
      "provenance": [],
      "authorship_tag": "ABX9TyNt3eH7hjc6WDy8wGuacc1P",
      "include_colab_link": true
    },
    "kernelspec": {
      "name": "python3",
      "display_name": "Python 3"
    },
    "language_info": {
      "name": "python"
    }
  },
  "cells": [
    {
      "cell_type": "markdown",
      "metadata": {
        "id": "view-in-github",
        "colab_type": "text"
      },
      "source": [
        "<a href=\"https://colab.research.google.com/github/Sonali0572/Digit_Recognition/blob/main/Digit_Recognition_using_LSTM.ipynb\" target=\"_parent\"><img src=\"https://colab.research.google.com/assets/colab-badge.svg\" alt=\"Open In Colab\"/></a>"
      ]
    },
    {
      "cell_type": "markdown",
      "metadata": {
        "id": "Jgb1owg3rP3-"
      },
      "source": [
        "## Digit Recognition using LSTM "
      ]
    },
    {
      "cell_type": "code",
      "metadata": {
        "id": "Tnjxd0HTbxg6"
      },
      "source": [
        "from tensorflow import keras\n",
        "from keras.layers.recurrent import LSTM\n",
        "import matplotlib.pyplot as plt\n",
        "import numpy as np\n",
        "import pandas as pd\n",
        "from sklearn.metrics import accuracy_score,confusion_matrix,classification_report"
      ],
      "execution_count": null,
      "outputs": []
    },
    {
      "cell_type": "code",
      "metadata": {
        "id": "QYJqja9rcBrf"
      },
      "source": [
        "(x_train, y_train), (x_test, y_test) = keras.datasets.mnist.load_data()"
      ],
      "execution_count": null,
      "outputs": []
    },
    {
      "cell_type": "code",
      "metadata": {
        "colab": {
          "base_uri": "https://localhost:8080/"
        },
        "id": "pwdhKDFNcnQ5",
        "outputId": "24c5c570-72b3-46d2-a9f0-56d11f3f2b92"
      },
      "source": [
        "print(x_train.shape)\n",
        "print(x_test.shape)"
      ],
      "execution_count": null,
      "outputs": [
        {
          "output_type": "stream",
          "text": [
            "(60000, 28, 28)\n",
            "(10000, 28, 28)\n"
          ],
          "name": "stdout"
        }
      ]
    },
    {
      "cell_type": "code",
      "metadata": {
        "id": "d6VYeyupcq2v"
      },
      "source": [
        "label = ['0','1','2','3','4','5','6','7','8','9']"
      ],
      "execution_count": null,
      "outputs": []
    },
    {
      "cell_type": "code",
      "metadata": {
        "colab": {
          "base_uri": "https://localhost:8080/",
          "height": 282
        },
        "id": "blJw_EUhcvc4",
        "outputId": "3398246b-e0d4-49cd-d756-3d6c45bde6ec"
      },
      "source": [
        "i=135\n",
        "plt.imshow(x_train[i],cmap='gray')\n",
        "print(label[y_train[i]])"
      ],
      "execution_count": null,
      "outputs": [
        {
          "output_type": "stream",
          "text": [
            "3\n"
          ],
          "name": "stdout"
        },
        {
          "output_type": "display_data",
          "data": {
            "image/png": "[encoded data removed]",
            "text/plain": [
              "<Figure size 432x288 with 1 Axes>"
            ]
          },
          "metadata": {
            "tags": [],
            "needs_background": "light"
          }
        }
      ]
    },
    {
      "cell_type": "code",
      "metadata": {
        "id": "5yW3ye5Ucynu"
      },
      "source": [
        "model = keras.Sequential()\n",
        "model.add(LSTM(50,input_shape=(28,28)))\n",
        "model.add(keras.layers.Dense(10,activation='softmax'))              "
      ],
      "execution_count": null,
      "outputs": []
    },
    {
      "cell_type": "code",
      "metadata": {
        "colab": {
          "base_uri": "https://localhost:8080/"
        },
        "id": "LDoPiMJnc1nf",
        "outputId": "f95871f5-d359-406d-b660-9a9dbe4e38ff"
      },
      "source": [
        "model.compile(loss=\"sparse_categorical_crossentropy\",optimizer='Adam',metrics=['accuracy'])\n",
        "history = model.fit(x_train,y_train,epochs=15)"
      ],
      "execution_count": null,
      "outputs": [
        {
          "output_type": "stream",
          "text": [
            "Epoch 1/15\n",
            "1875/1875 [==============================] - 21s 11ms/step - loss: 1.1378 - accuracy: 0.6127\n",
            "Epoch 2/15\n",
            "1875/1875 [==============================] - 20s 11ms/step - loss: 0.4701 - accuracy: 0.8389\n",
            "Epoch 3/15\n",
            "1875/1875 [==============================] - 20s 11ms/step - loss: 0.3793 - accuracy: 0.8730\n",
            "Epoch 4/15\n",
            "1875/1875 [==============================] - 20s 11ms/step - loss: 0.3427 - accuracy: 0.8851\n",
            "Epoch 5/15\n",
            "1875/1875 [==============================] - 20s 11ms/step - loss: 0.3149 - accuracy: 0.8948\n",
            "Epoch 6/15\n",
            "1875/1875 [==============================] - 20s 11ms/step - loss: 0.2962 - accuracy: 0.9017\n",
            "Epoch 7/15\n",
            "1875/1875 [==============================] - 20s 11ms/step - loss: 0.2719 - accuracy: 0.9070\n",
            "Epoch 8/15\n",
            "1875/1875 [==============================] - 20s 11ms/step - loss: 0.2650 - accuracy: 0.9120\n",
            "Epoch 9/15\n",
            "1875/1875 [==============================] - 20s 11ms/step - loss: 0.2618 - accuracy: 0.9121\n",
            "Epoch 10/15\n",
            "1875/1875 [==============================] - 20s 11ms/step - loss: 0.2512 - accuracy: 0.9155\n",
            "Epoch 11/15\n",
            "1875/1875 [==============================] - 20s 11ms/step - loss: 0.2413 - accuracy: 0.9192\n",
            "Epoch 12/15\n",
            "1875/1875 [==============================] - 20s 11ms/step - loss: 0.2366 - accuracy: 0.9211\n",
            "Epoch 13/15\n",
            "1875/1875 [==============================] - 20s 11ms/step - loss: 0.2303 - accuracy: 0.9240\n",
            "Epoch 14/15\n",
            "1875/1875 [==============================] - 20s 11ms/step - loss: 0.2221 - accuracy: 0.9247\n",
            "Epoch 15/15\n",
            "1875/1875 [==============================] - 21s 11ms/step - loss: 0.2163 - accuracy: 0.9277\n"
          ],
          "name": "stdout"
        }
      ]
    },
    {
      "cell_type": "code",
      "metadata": {
        "colab": {
          "base_uri": "https://localhost:8080/"
        },
        "id": "fxqU-PlcdFDA",
        "outputId": "b18fce23-2938-46f5-f1a8-bc264b067262"
      },
      "source": [
        "y_pred = model.predict(x_test)\n",
        "y_pred = np.argmax(y_pred,axis=1)\n",
        "y_pred"
      ],
      "execution_count": null,
      "outputs": [
        {
          "output_type": "execute_result",
          "data": {
            "text/plain": [
              "array([7, 2, 1, ..., 4, 5, 6])"
            ]
          },
          "metadata": {
            "tags": []
          },
          "execution_count": 8
        }
      ]
    },
    {
      "cell_type": "code",
      "metadata": {
        "colab": {
          "base_uri": "https://localhost:8080/"
        },
        "id": "zTzTs-AqezSN",
        "outputId": "acfb23b7-7523-4fe6-d905-92b88c21e119"
      },
      "source": [
        "y_test"
      ],
      "execution_count": null,
      "outputs": [
        {
          "output_type": "execute_result",
          "data": {
            "text/plain": [
              "array([7, 2, 1, ..., 4, 5, 6], dtype=uint8)"
            ]
          },
          "metadata": {
            "tags": []
          },
          "execution_count": 9
        }
      ]
    },
    {
      "cell_type": "code",
      "metadata": {
        "colab": {
          "base_uri": "https://localhost:8080/"
        },
        "id": "yTa6iH8qe2US",
        "outputId": "011047b0-885d-4898-a6c2-aab9e6a1e9d8"
      },
      "source": [
        "confusion_matrix(y_pred,y_test)"
      ],
      "execution_count": null,
      "outputs": [
        {
          "output_type": "execute_result",
          "data": {
            "text/plain": [
              "array([[ 939,    0,   14,    2,    3,    2,   13,    0,   29,    3],\n",
              "       [   0, 1099,    4,    0,    4,    1,    2,   11,    2,    1],\n",
              "       [   0,    9,  942,   10,   11,    5,    6,    7,    3,    4],\n",
              "       [   3,    2,   21,  952,    0,   96,    1,    2,    8,   17],\n",
              "       [   1,    5,    6,    0,  881,    1,    3,   24,    1,   78],\n",
              "       [   3,    3,    9,   30,    1,  756,    7,    5,    6,   10],\n",
              "       [   4,    4,   12,    0,    1,    9,  917,    0,    9,    0],\n",
              "       [   0,    8,    5,    2,   14,    4,    0,  914,    4,   57],\n",
              "       [  29,    5,   17,    8,   15,   13,    9,    1,  909,   10],\n",
              "       [   1,    0,    2,    6,   52,    5,    0,   64,    3,  829]])"
            ]
          },
          "metadata": {
            "tags": []
          },
          "execution_count": 10
        }
      ]
    },
    {
      "cell_type": "code",
      "metadata": {
        "colab": {
          "base_uri": "https://localhost:8080/"
        },
        "id": "_Nrjaa1ue5_G",
        "outputId": "f47bc48d-421e-4369-c91c-362ea00cb8d7"
      },
      "source": [
        "accuracy_score(y_pred,y_test)"
      ],
      "execution_count": null,
      "outputs": [
        {
          "output_type": "execute_result",
          "data": {
            "text/plain": [
              "0.9138"
            ]
          },
          "metadata": {
            "tags": []
          },
          "execution_count": 11
        }
      ]
    },
    {
      "cell_type": "code",
      "metadata": {
        "id": "WQ-RXVEce9Up"
      },
      "source": [
        "x_train = x_train / 255.0\n",
        "x_test = x_test / 255.0"
      ],
      "execution_count": null,
      "outputs": []
    },
    {
      "cell_type": "code",
      "metadata": {
        "colab": {
          "base_uri": "https://localhost:8080/"
        },
        "id": "2nXExOXHfBRI",
        "outputId": "7207a379-d9f4-49a5-ee4c-1ba8c28078bd"
      },
      "source": [
        "from keras.callbacks import EarlyStopping\n",
        "early_stop = EarlyStopping(monitor = \"val_loss\", mode = \"min\", verbose = 1, patience = 5)\n",
        "history = model.fit(x_train,y_train, epochs=25, validation_data=(x_test, y_test), callbacks = [early_stop])"
      ],
      "execution_count": null,
      "outputs": [
        {
          "output_type": "stream",
          "text": [
            "Epoch 1/25\n",
            "1875/1875 [==============================] - 24s 12ms/step - loss: 0.3732 - accuracy: 0.8871 - val_loss: 0.1537 - val_accuracy: 0.9547\n",
            "Epoch 2/25\n",
            "1875/1875 [==============================] - 23s 12ms/step - loss: 0.1329 - accuracy: 0.9605 - val_loss: 0.1214 - val_accuracy: 0.9647\n",
            "Epoch 3/25\n",
            "1875/1875 [==============================] - 22s 12ms/step - loss: 0.0988 - accuracy: 0.9704 - val_loss: 0.0879 - val_accuracy: 0.9735\n",
            "Epoch 4/25\n",
            "1875/1875 [==============================] - 22s 12ms/step - loss: 0.0789 - accuracy: 0.9765 - val_loss: 0.0772 - val_accuracy: 0.9789\n",
            "Epoch 5/25\n",
            "1875/1875 [==============================] - 22s 12ms/step - loss: 0.0698 - accuracy: 0.9790 - val_loss: 0.0701 - val_accuracy: 0.9798\n",
            "Epoch 6/25\n",
            "1875/1875 [==============================] - 22s 12ms/step - loss: 0.0590 - accuracy: 0.9816 - val_loss: 0.0633 - val_accuracy: 0.9822\n",
            "Epoch 7/25\n",
            "1875/1875 [==============================] - 22s 12ms/step - loss: 0.0545 - accuracy: 0.9829 - val_loss: 0.0668 - val_accuracy: 0.9798\n",
            "Epoch 8/25\n",
            "1875/1875 [==============================] - 22s 12ms/step - loss: 0.0459 - accuracy: 0.9856 - val_loss: 0.0623 - val_accuracy: 0.9815\n",
            "Epoch 9/25\n",
            "1875/1875 [==============================] - 22s 12ms/step - loss: 0.0425 - accuracy: 0.9863 - val_loss: 0.0595 - val_accuracy: 0.9820\n",
            "Epoch 10/25\n",
            "1875/1875 [==============================] - 22s 12ms/step - loss: 0.0365 - accuracy: 0.9882 - val_loss: 0.0500 - val_accuracy: 0.9854\n",
            "Epoch 11/25\n",
            "1875/1875 [==============================] - 23s 12ms/step - loss: 0.0348 - accuracy: 0.9892 - val_loss: 0.0535 - val_accuracy: 0.9850\n",
            "Epoch 12/25\n",
            "1875/1875 [==============================] - 22s 12ms/step - loss: 0.0324 - accuracy: 0.9897 - val_loss: 0.0563 - val_accuracy: 0.9840\n",
            "Epoch 13/25\n",
            "1875/1875 [==============================] - 23s 12ms/step - loss: 0.0289 - accuracy: 0.9906 - val_loss: 0.0574 - val_accuracy: 0.9840\n",
            "Epoch 14/25\n",
            "1875/1875 [==============================] - 23s 12ms/step - loss: 0.0276 - accuracy: 0.9916 - val_loss: 0.0545 - val_accuracy: 0.9841\n",
            "Epoch 15/25\n",
            "1875/1875 [==============================] - 23s 12ms/step - loss: 0.0236 - accuracy: 0.9925 - val_loss: 0.0569 - val_accuracy: 0.9830\n",
            "Epoch 00015: early stopping\n"
          ],
          "name": "stdout"
        }
      ]
    },
    {
      "cell_type": "code",
      "metadata": {
        "id": "u1-iEXx2fHZe",
        "colab": {
          "base_uri": "https://localhost:8080/",
          "height": 282
        },
        "outputId": "96f396d2-ee13-4f9a-9dd6-ecf623cd2d44"
      },
      "source": [
        "loss = pd.DataFrame(history.history)\n",
        "loss.plot()"
      ],
      "execution_count": null,
      "outputs": [
        {
          "output_type": "execute_result",
          "data": {
            "text/plain": [
              "<matplotlib.axes._subplots.AxesSubplot at 0x7fe9bc6e5ad0>"
            ]
          },
          "metadata": {
            "tags": []
          },
          "execution_count": 14
        },
        {
          "output_type": "display_data",
          "data": {
            "image/png": "[encoded data removed]",
            "text/plain": [
              "<Figure size 432x288 with 1 Axes>"
            ]
          },
          "metadata": {
            "tags": [],
            "needs_background": "light"
          }
        }
      ]
    },
    {
      "cell_type": "code",
      "metadata": {
        "id": "L4LT8LRyfsaJ",
        "colab": {
          "base_uri": "https://localhost:8080/"
        },
        "outputId": "370a037e-bf56-4131-e761-29eaf76a13c1"
      },
      "source": [
        "y_pred = model.predict(x_test)\n",
        "y_pred = np.argmax(y_pred,axis=1)\n",
        "accuracy_score(y_pred, y_test) * 100"
      ],
      "execution_count": null,
      "outputs": [
        {
          "output_type": "execute_result",
          "data": {
            "text/plain": [
              "98.3"
            ]
          },
          "metadata": {
            "tags": []
          },
          "execution_count": 15
        }
      ]
    },
    {
      "cell_type": "code",
      "metadata": {
        "id": "R1bm3ou4fwTm",
        "colab": {
          "base_uri": "https://localhost:8080/"
        },
        "outputId": "2562ab37-ba06-4992-cfaf-d1122396c0ab"
      },
      "source": [
        "confusion_matrix(y_pred, y_test)"
      ],
      "execution_count": null,
      "outputs": [
        {
          "output_type": "execute_result",
          "data": {
            "text/plain": [
              "array([[ 970,    0,    0,    0,    0,    3,    2,    0,    3,    0],\n",
              "       [   0, 1132,    1,    0,    0,    0,    3,    4,    0,    6],\n",
              "       [   1,    0, 1013,    4,    0,    1,    0,    2,    3,    1],\n",
              "       [   0,    0,    2,  990,    0,    5,    0,    0,    1,    0],\n",
              "       [   2,    0,    0,    0,  961,    0,    0,    0,    2,   10],\n",
              "       [   0,    0,    0,   10,    0,  880,    8,    0,    8,    2],\n",
              "       [   4,    2,    1,    0,    1,    0,  943,    0,    0,    0],\n",
              "       [   1,    1,    6,    2,    4,    2,    0, 1020,    3,    9],\n",
              "       [   2,    0,    8,    3,    3,    1,    1,    1,  953,   13],\n",
              "       [   0,    0,    1,    1,   13,    0,    1,    1,    1,  968]])"
            ]
          },
          "metadata": {
            "tags": []
          },
          "execution_count": 16
        }
      ]
    },
    {
      "cell_type": "code",
      "metadata": {
        "id": "r-E7Gd4_fxNT",
        "colab": {
          "base_uri": "https://localhost:8080/"
        },
        "outputId": "bed850d2-93d5-42e3-d37e-d31b18deaea7"
      },
      "source": [
        "print(classification_report(y_pred, y_test))"
      ],
      "execution_count": null,
      "outputs": [
        {
          "output_type": "stream",
          "text": [
            "              precision    recall  f1-score   support\n",
            "\n",
            "           0       0.99      0.99      0.99       978\n",
            "           1       1.00      0.99      0.99      1146\n",
            "           2       0.98      0.99      0.98      1025\n",
            "           3       0.98      0.99      0.99       998\n",
            "           4       0.98      0.99      0.98       975\n",
            "           5       0.99      0.97      0.98       908\n",
            "           6       0.98      0.99      0.99       951\n",
            "           7       0.99      0.97      0.98      1048\n",
            "           8       0.98      0.97      0.97       985\n",
            "           9       0.96      0.98      0.97       986\n",
            "\n",
            "    accuracy                           0.98     10000\n",
            "   macro avg       0.98      0.98      0.98     10000\n",
            "weighted avg       0.98      0.98      0.98     10000\n",
            "\n"
          ],
          "name": "stdout"
        }
      ]
    },
    {
      "cell_type": "code",
      "metadata": {
        "id": "Nm8fr6Gyf18y",
        "colab": {
          "base_uri": "https://localhost:8080/"
        },
        "outputId": "32355655-b293-4c40-ac6a-15b07e9db1e2"
      },
      "source": [
        "for i in range(10):\n",
        "  print(int(y_test[i+134]), y_pred[i+134])"
      ],
      "execution_count": null,
      "outputs": [
        {
          "output_type": "stream",
          "text": [
            "8 8\n",
            "1 1\n",
            "0 0\n",
            "1 1\n",
            "6 6\n",
            "4 4\n",
            "6 6\n",
            "7 7\n",
            "3 3\n",
            "1 1\n"
          ],
          "name": "stdout"
        }
      ]
    }
  ]
}